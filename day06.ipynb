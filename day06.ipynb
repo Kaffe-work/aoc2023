{
  "nbformat": 4,
  "nbformat_minor": 0,
  "metadata": {
    "colab": {
      "provenance": [],
      "authorship_tag": "ABX9TyMsLt3CCJiIaNwsh/21LXco",
      "include_colab_link": true
    },
    "kernelspec": {
      "name": "python3",
      "display_name": "Python 3"
    },
    "language_info": {
      "name": "python"
    }
  },
  "cells": [
    {
      "cell_type": "markdown",
      "metadata": {
        "id": "view-in-github",
        "colab_type": "text"
      },
      "source": [
        "<a href=\"https://colab.research.google.com/github/Kaffe-work/aoc2023/blob/main/day06.ipynb\" target=\"_parent\"><img src=\"https://colab.research.google.com/assets/colab-badge.svg\" alt=\"Open In Colab\"/></a>"
      ]
    },
    {
      "cell_type": "code",
      "execution_count": 18,
      "metadata": {
        "id": "6R2-ez8AcqUN"
      },
      "outputs": [],
      "source": [
        "import numpy as np\n",
        "import math\n",
        "import re\n",
        "with open(\"day06.txt\") as f:\n",
        "    lines = f.readlines()"
      ]
    },
    {
      "cell_type": "code",
      "source": [
        "\n",
        "times = np.array(lines[0].split())[np.char.isnumeric(np.array(lines[0].split()))].astype(int)\n",
        "dists = np.array(lines[1].split())[np.char.isnumeric(np.array(lines[1].split()))].astype(int)\n",
        "\n",
        "# why string append when you can just remove non-integer\n",
        "time = int(''.join(c for c in lines[0] if c.isdigit()))\n",
        "dist = int(''.join(c for c in lines[1] if c.isdigit()))\n",
        "\n",
        "#compleating the []\n",
        "def calc_time(time, beat):\n",
        "    lower = np.ceil(time/2 - np.sqrt(-beat +time**2/4))\n",
        "    upper = np.ceil(time/2 + np.sqrt(-beat +time**2/4))\n",
        "    return upper-lower\n",
        "\n",
        "\n",
        "ways = []\n",
        "for i in range( len(times)):\n",
        "  ways.append(calc_time(times[i],dists[i]))\n",
        "\n",
        "\n",
        "\n",
        "\n",
        "print(f\"solution to 1 is: {(int(math.prod(ways)))}\")\n",
        "\n",
        "way = calc_time(time, dist)\n",
        "print(f\"solution to 2 is: {(int(way))}\")"
      ],
      "metadata": {
        "colab": {
          "base_uri": "https://localhost:8080/"
        },
        "id": "S1f1QRbbc-J6",
        "outputId": "010caa67-81f6-48d7-d874-da7388be6b99"
      },
      "execution_count": 50,
      "outputs": [
        {
          "output_type": "stream",
          "name": "stdout",
          "text": [
            "solution to 1 is: 2065338\n",
            "solution to 2 is: 34934171\n"
          ]
        }
      ]
    }
  ]
}