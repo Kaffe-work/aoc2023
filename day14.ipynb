{
  "nbformat": 4,
  "nbformat_minor": 0,
  "metadata": {
    "colab": {
      "provenance": [],
      "authorship_tag": "ABX9TyPbom6/UORUFRewRr/Ujtyl",
      "include_colab_link": true
    },
    "kernelspec": {
      "name": "python3",
      "display_name": "Python 3"
    },
    "language_info": {
      "name": "python"
    }
  },
  "cells": [
    {
      "cell_type": "markdown",
      "metadata": {
        "id": "view-in-github",
        "colab_type": "text"
      },
      "source": [
        "<a href=\"https://colab.research.google.com/github/Kaffe-work/aoc2023/blob/main/day14.ipynb\" target=\"_parent\"><img src=\"https://colab.research.google.com/assets/colab-badge.svg\" alt=\"Open In Colab\"/></a>"
      ]
    },
    {
      "cell_type": "code",
      "execution_count": 134,
      "metadata": {
        "id": "iJlpZNqws5RS"
      },
      "outputs": [],
      "source": [
        "import numpy as np\n",
        "with open(\"day14.txt\", \"r\") as f:\n",
        "  file = f.read().splitlines()\n",
        "decode = {\"#\": -1, \"O\": 0, \".\": 1}\n",
        "array = np.array([[decode[char] for char in line] for line in file])\n",
        "firstarray = array"
      ]
    },
    {
      "cell_type": "code",
      "source": [
        "def roll(array):\n",
        "  for i in range(array.shape[0]):\n",
        "    rocks = [-1] + list(np.where(array[:,i] == -1)[0]) + [None]\n",
        "    #print(rocks)\n",
        "    for j in range(len(rocks)-1):\n",
        "      l,r = rocks[j] +1, rocks[j + 1]\n",
        "      array[l:r, i] = np.sort(array[l:r,i])\n",
        "  return array\n",
        "\n",
        "shakenarray = roll(array)\n",
        "def score(array):\n",
        "  rolls = np.where(array == 0)[0]\n",
        "  return (100 - rolls).sum()\n",
        "\n",
        "print(score(shakenarray))"
      ],
      "metadata": {
        "colab": {
          "base_uri": "https://localhost:8080/"
        },
        "id": "XJcnSZDbxBrk",
        "outputId": "eb18f970-d4dc-48dd-be6f-cf357f4a2762"
      },
      "execution_count": 135,
      "outputs": [
        {
          "output_type": "stream",
          "name": "stdout",
          "text": [
            "107053\n"
          ]
        }
      ]
    },
    {
      "cell_type": "code",
      "source": [
        "def cycle(array):\n",
        "  for i in range(4):\n",
        "    array= roll(array)\n",
        "    array = np.rot90(array, -1)\n",
        "  return array\n",
        "\n",
        "def hash_(array):\n",
        "    return tuple(array.ravel())\n",
        "def part2(array):\n",
        "  tseen, tscore = {},{}\n",
        "  for i in range (int(1e9)):\n",
        "    h = hash(array.tobytes())\n",
        "    if h in(tseen):\n",
        "      break\n",
        "    tseen[h] = i\n",
        "    tscore[i] = score(array)\n",
        "    array = cycle(array)\n",
        "\n",
        "  cycle_length = i - tseen[h]\n",
        "  index = tseen[h] + (int(1e9) - tseen[h]) % cycle_length\n",
        "  return (tscore[index])\n",
        "\n",
        "print(part2(firstarray))"
      ],
      "metadata": {
        "colab": {
          "base_uri": "https://localhost:8080/"
        },
        "id": "n73EAakE8ffr",
        "outputId": "f37e33a5-4135-416d-aef0-74f39f8c51de"
      },
      "execution_count": 136,
      "outputs": [
        {
          "output_type": "stream",
          "name": "stdout",
          "text": [
            "88371\n"
          ]
        }
      ]
    }
  ]
}